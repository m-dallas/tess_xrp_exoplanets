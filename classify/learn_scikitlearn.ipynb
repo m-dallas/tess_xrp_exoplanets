{
 "cells": [
  {
   "cell_type": "markdown",
   "id": "3c34e0eb",
   "metadata": {},
   "source": [
    "## Let's read in Kelsey's file and play with some classifiers in scikit learn.\n",
    "%matplotlib widget seems to work in vscode for zoomable plots"
   ]
  },
  {
   "cell_type": "code",
   "execution_count": 1,
   "id": "85f2dd7c-b846-476d-81da-98cb784e5bc2",
   "metadata": {},
   "outputs": [],
   "source": [
    "import numpy as np\n",
    "import pandas as pd\n",
    "import matplotlib.pyplot as plt\n",
    "from sklearn.naive_bayes import GaussianNB\n",
    "from sklearn.tree import DecisionTreeClassifier\n",
    "from sklearn.ensemble import RandomForestClassifier\n",
    "# Modelling\n",
    "from sklearn.ensemble import RandomForestClassifier\n",
    "from sklearn.metrics import accuracy_score, confusion_matrix, precision_score, recall_score, ConfusionMatrixDisplay\n",
    "from sklearn.model_selection import RandomizedSearchCV, train_test_split\n",
    "from scipy.stats import randint\n",
    "from sklearn.model_selection import cross_val_score\n",
    "\n",
    "# Tree Visualisation\n",
    "from sklearn.tree import export_graphviz\n"
   ]
  },
  {
   "cell_type": "code",
   "execution_count": 2,
   "id": "da94d806-669e-4d1e-b27a-d5b78cb29c36",
   "metadata": {},
   "outputs": [],
   "source": [
    "ddir = \"data/\"\n",
    "tcefile = \"TESS_ML_20240412.txt\"\n",
    "columns = [\"pass\",\"win\",\"type\",\"injnum\",\"period\",\"tzero\",\"power\",\"dur\",\"depth\",\"snr\",\"deptest1\",\"deptest2\",\"stmass\",\"stradius\",\"chisq\",\n",
    "           \"bicft\",\"bicplus\",\"bicminus\",\"snrshape\",\"noise\",\"depth_shape2\",\"depth_shape3\",\"mindBIC\",\"23\",\"24\",\"25\",\"26\",\"27\",\"28\",\"29\",\"30\",\"31\",\n",
    "           \"Tmag\",\"Teff\",\"logg\",\"injrec\",\"trprob\"]\n",
    "tces = pd.read_csv(ddir+tcefile, names=columns)"
   ]
  },
  {
   "cell_type": "markdown",
   "id": "5e4ad4d8",
   "metadata": {},
   "source": [
    "## Define some metrics and a test set."
   ]
  },
  {
   "cell_type": "code",
   "execution_count": 3,
   "id": "2df9a04c",
   "metadata": {},
   "outputs": [
    {
     "data": {
      "text/plain": [
       "161273"
      ]
     },
     "execution_count": 3,
     "metadata": {},
     "output_type": "execute_result"
    }
   ],
   "source": [
    "metrics=[\"period\",\"power\",\"dur\",\"deptest1\",\"deptest2\",\"chisq\",\n",
    "           \"bicft\",\"bicplus\",\"bicminus\",\"snrshape\",\"noise\",\"depth_shape2\",\"depth_shape3\",\"mindBIC\",\"23\",\"24\",\"25\",\"26\",\"27\",\"28\",\"29\",\"30\",\"31\",\n",
    "           \"Tmag\", \"logg\", \"Teff\"]\n",
    "X = np.array(tces[metrics])\n",
    "X[~np.isfinite(X)] = -9999\n",
    "X_train, X_test, y_train, y_test = train_test_split(X, tces['injrec'], test_size=0.2)\n",
    "\n",
    "len(X_train)\n"
   ]
  },
  {
   "cell_type": "markdown",
   "id": "c63e9025",
   "metadata": {},
   "source": []
  },
  {
   "cell_type": "code",
   "execution_count": 4,
   "id": "cfd2ff7f",
   "metadata": {},
   "outputs": [
    {
     "name": "stdout",
     "output_type": "stream",
     "text": [
      "5104.0 69117\n"
     ]
    }
   ],
   "source": [
    "print(np.sum(y_test), len(y_test))"
   ]
  },
  {
   "cell_type": "code",
   "execution_count": 5,
   "id": "34a63493",
   "metadata": {},
   "outputs": [
    {
     "data": {
      "text/plain": [
       "0.9804430983540323"
      ]
     },
     "execution_count": 5,
     "metadata": {},
     "output_type": "execute_result"
    }
   ],
   "source": [
    "rf = RandomForestClassifier(n_estimators=10,max_depth=4, min_samples_split=2)\n",
    "rf.fit(X_train, y_train)\n",
    "scores= cross_val_score(rf, X_train, y_train, cv=6)\n",
    "scores.mean()"
   ]
  },
  {
   "cell_type": "markdown",
   "id": "3850c891",
   "metadata": {},
   "source": []
  },
  {
   "cell_type": "code",
   "execution_count": 6,
   "id": "7f7e96b0",
   "metadata": {},
   "outputs": [
    {
     "name": "stdout",
     "output_type": "stream",
     "text": [
      "Accuracy: 0.9820594065135929\n"
     ]
    }
   ],
   "source": [
    "y_pred = rf.predict(X_test)\n",
    "accuracy = accuracy_score(y_test, y_pred)\n",
    "print(\"Accuracy:\", accuracy)"
   ]
  },
  {
   "cell_type": "code",
   "execution_count": 7,
   "id": "733b6353",
   "metadata": {},
   "outputs": [
    {
     "name": "stdout",
     "output_type": "stream",
     "text": [
      "|--- feature_8 <= 130.23\n",
      "|   |--- feature_12 <= 6.05\n",
      "|   |   |--- feature_13 <= 3.95\n",
      "|   |   |   |--- feature_5 <= 0.91\n",
      "|   |   |   |   |--- class: 0.0\n",
      "|   |   |   |--- feature_5 >  0.91\n",
      "|   |   |   |   |--- class: 0.0\n",
      "|   |   |--- feature_13 >  3.95\n",
      "|   |   |   |--- feature_6 <= 10.26\n",
      "|   |   |   |   |--- class: 0.0\n",
      "|   |   |   |--- feature_6 >  10.26\n",
      "|   |   |   |   |--- class: 0.0\n",
      "|   |--- feature_12 >  6.05\n",
      "|   |   |--- feature_15 <= 5.50\n",
      "|   |   |   |--- feature_23 <= 1595.18\n",
      "|   |   |   |   |--- class: 0.0\n",
      "|   |   |   |--- feature_23 >  1595.18\n",
      "|   |   |   |   |--- class: 0.0\n",
      "|   |   |--- feature_15 >  5.50\n",
      "|   |   |   |--- feature_5 <= 1.58\n",
      "|   |   |   |   |--- class: 1.0\n",
      "|   |   |   |--- feature_5 >  1.58\n",
      "|   |   |   |   |--- class: 0.0\n",
      "|--- feature_8 >  130.23\n",
      "|   |--- feature_13 <= 10.65\n",
      "|   |   |--- feature_10 <= 19.45\n",
      "|   |   |   |--- feature_20 <= 26.98\n",
      "|   |   |   |   |--- class: 0.0\n",
      "|   |   |   |--- feature_20 >  26.98\n",
      "|   |   |   |   |--- class: 0.0\n",
      "|   |   |--- feature_10 >  19.45\n",
      "|   |   |   |--- feature_8 <= 301.44\n",
      "|   |   |   |   |--- class: 0.0\n",
      "|   |   |   |--- feature_8 >  301.44\n",
      "|   |   |   |   |--- class: 0.0\n",
      "|   |--- feature_13 >  10.65\n",
      "|   |   |--- feature_20 <= 1040.89\n",
      "|   |   |   |--- feature_4 <= 5.09\n",
      "|   |   |   |   |--- class: 0.0\n",
      "|   |   |   |--- feature_4 >  5.09\n",
      "|   |   |   |   |--- class: 1.0\n",
      "|   |   |--- feature_20 >  1040.89\n",
      "|   |   |   |--- feature_3 <= 4.62\n",
      "|   |   |   |   |--- class: 0.0\n",
      "|   |   |   |--- feature_3 >  4.62\n",
      "|   |   |   |   |--- class: 1.0\n",
      "\n"
     ]
    }
   ],
   "source": [
    "from sklearn import tree\n",
    "print(tree.export_text(rf.estimators_[0]))\n",
    "#plt.figure(figsize=10,10)\n",
    "#_ = tree.plot"
   ]
  },
  {
   "cell_type": "code",
   "execution_count": 8,
   "id": "e9b49129",
   "metadata": {},
   "outputs": [
    {
     "name": "stdout",
     "output_type": "stream",
     "text": [
      "period 3.0389166160048777\n",
      "power 0.0\n",
      "dur 0.5051852209011063\n",
      "deptest1 1.086289277373661\n",
      "deptest2 0.6832601148800549\n",
      "chisq 2.063590208022201\n",
      "snr 36.120605353825944\n",
      "bicft 8.875701273719136\n",
      "bicplus 9.145564286028709\n",
      "bicminus 0.07874688108370986\n",
      "snrshape 8.693675353599021\n",
      "noise 0.0\n",
      "depth_shape2 19.436176543524333\n",
      "depth_shape3 6.256121107960415\n",
      "mindBIC 0.5403978879835392\n",
      "23 0.2473401458693971\n",
      "24 0.22586953722893857\n",
      "25 1.058043752496841\n",
      "26 1.0809347077908624\n",
      "27 0.0\n",
      "28 0.5013079691100828\n",
      "29 0.0022547488735519617\n",
      "30 0.21870344465984665\n",
      "31 0.14131556906378298\n",
      "Tmag 0.0\n"
     ]
    }
   ],
   "source": [
    "isort = np.argsort(rf.feature_importances_)\n",
    "for i,m in enumerate(metrics):\n",
    "    print(m, 100*rf.feature_importances_[i])"
   ]
  },
  {
   "cell_type": "code",
   "execution_count": 19,
   "id": "7937d67a",
   "metadata": {},
   "outputs": [],
   "source": [
    "import dtreeviz\n",
    "\n",
    "viz = dtreeviz.model(rf.estimators_[0], X_train, y_train,\n",
    "                target_name=\"target\",\n",
    "                feature_names=metrics, class_names=[\"FP\",\"PC\"])"
   ]
  },
  {
   "cell_type": "code",
   "execution_count": 20,
   "id": "d5fa0481",
   "metadata": {},
   "outputs": [
    {
     "ename": "ExecutableNotFound",
     "evalue": "failed to execute 'dot', make sure the Graphviz executables are on your systems' PATH",
     "output_type": "error",
     "traceback": [
      "\u001b[0;31m---------------------------------------------------------------------------\u001b[0m",
      "\u001b[0;31mFileNotFoundError\u001b[0m                         Traceback (most recent call last)",
      "File \u001b[0;32m~/miniconda3/envs/classify/lib/python3.12/site-packages/graphviz/backend/execute.py:78\u001b[0m, in \u001b[0;36mrun_check\u001b[0;34m(cmd, input_lines, encoding, quiet, **kwargs)\u001b[0m\n\u001b[1;32m     77\u001b[0m     \u001b[38;5;28;01melse\u001b[39;00m:\n\u001b[0;32m---> 78\u001b[0m         proc \u001b[38;5;241m=\u001b[39m \u001b[43msubprocess\u001b[49m\u001b[38;5;241;43m.\u001b[39;49m\u001b[43mrun\u001b[49m\u001b[43m(\u001b[49m\u001b[43mcmd\u001b[49m\u001b[43m,\u001b[49m\u001b[43m \u001b[49m\u001b[38;5;241;43m*\u001b[39;49m\u001b[38;5;241;43m*\u001b[39;49m\u001b[43mkwargs\u001b[49m\u001b[43m)\u001b[49m\n\u001b[1;32m     79\u001b[0m \u001b[38;5;28;01mexcept\u001b[39;00m \u001b[38;5;167;01mOSError\u001b[39;00m \u001b[38;5;28;01mas\u001b[39;00m e:\n",
      "File \u001b[0;32m~/miniconda3/envs/classify/lib/python3.12/subprocess.py:548\u001b[0m, in \u001b[0;36mrun\u001b[0;34m(input, capture_output, timeout, check, *popenargs, **kwargs)\u001b[0m\n\u001b[1;32m    546\u001b[0m     kwargs[\u001b[38;5;124m'\u001b[39m\u001b[38;5;124mstderr\u001b[39m\u001b[38;5;124m'\u001b[39m] \u001b[38;5;241m=\u001b[39m PIPE\n\u001b[0;32m--> 548\u001b[0m \u001b[38;5;28;01mwith\u001b[39;00m \u001b[43mPopen\u001b[49m\u001b[43m(\u001b[49m\u001b[38;5;241;43m*\u001b[39;49m\u001b[43mpopenargs\u001b[49m\u001b[43m,\u001b[49m\u001b[43m \u001b[49m\u001b[38;5;241;43m*\u001b[39;49m\u001b[38;5;241;43m*\u001b[39;49m\u001b[43mkwargs\u001b[49m\u001b[43m)\u001b[49m \u001b[38;5;28;01mas\u001b[39;00m process:\n\u001b[1;32m    549\u001b[0m     \u001b[38;5;28;01mtry\u001b[39;00m:\n",
      "File \u001b[0;32m~/miniconda3/envs/classify/lib/python3.12/subprocess.py:1026\u001b[0m, in \u001b[0;36mPopen.__init__\u001b[0;34m(self, args, bufsize, executable, stdin, stdout, stderr, preexec_fn, close_fds, shell, cwd, env, universal_newlines, startupinfo, creationflags, restore_signals, start_new_session, pass_fds, user, group, extra_groups, encoding, errors, text, umask, pipesize, process_group)\u001b[0m\n\u001b[1;32m   1023\u001b[0m             \u001b[38;5;28mself\u001b[39m\u001b[38;5;241m.\u001b[39mstderr \u001b[38;5;241m=\u001b[39m io\u001b[38;5;241m.\u001b[39mTextIOWrapper(\u001b[38;5;28mself\u001b[39m\u001b[38;5;241m.\u001b[39mstderr,\n\u001b[1;32m   1024\u001b[0m                     encoding\u001b[38;5;241m=\u001b[39mencoding, errors\u001b[38;5;241m=\u001b[39merrors)\n\u001b[0;32m-> 1026\u001b[0m     \u001b[38;5;28;43mself\u001b[39;49m\u001b[38;5;241;43m.\u001b[39;49m\u001b[43m_execute_child\u001b[49m\u001b[43m(\u001b[49m\u001b[43margs\u001b[49m\u001b[43m,\u001b[49m\u001b[43m \u001b[49m\u001b[43mexecutable\u001b[49m\u001b[43m,\u001b[49m\u001b[43m \u001b[49m\u001b[43mpreexec_fn\u001b[49m\u001b[43m,\u001b[49m\u001b[43m \u001b[49m\u001b[43mclose_fds\u001b[49m\u001b[43m,\u001b[49m\n\u001b[1;32m   1027\u001b[0m \u001b[43m                        \u001b[49m\u001b[43mpass_fds\u001b[49m\u001b[43m,\u001b[49m\u001b[43m \u001b[49m\u001b[43mcwd\u001b[49m\u001b[43m,\u001b[49m\u001b[43m \u001b[49m\u001b[43menv\u001b[49m\u001b[43m,\u001b[49m\n\u001b[1;32m   1028\u001b[0m \u001b[43m                        \u001b[49m\u001b[43mstartupinfo\u001b[49m\u001b[43m,\u001b[49m\u001b[43m \u001b[49m\u001b[43mcreationflags\u001b[49m\u001b[43m,\u001b[49m\u001b[43m \u001b[49m\u001b[43mshell\u001b[49m\u001b[43m,\u001b[49m\n\u001b[1;32m   1029\u001b[0m \u001b[43m                        \u001b[49m\u001b[43mp2cread\u001b[49m\u001b[43m,\u001b[49m\u001b[43m \u001b[49m\u001b[43mp2cwrite\u001b[49m\u001b[43m,\u001b[49m\n\u001b[1;32m   1030\u001b[0m \u001b[43m                        \u001b[49m\u001b[43mc2pread\u001b[49m\u001b[43m,\u001b[49m\u001b[43m \u001b[49m\u001b[43mc2pwrite\u001b[49m\u001b[43m,\u001b[49m\n\u001b[1;32m   1031\u001b[0m \u001b[43m                        \u001b[49m\u001b[43merrread\u001b[49m\u001b[43m,\u001b[49m\u001b[43m \u001b[49m\u001b[43merrwrite\u001b[49m\u001b[43m,\u001b[49m\n\u001b[1;32m   1032\u001b[0m \u001b[43m                        \u001b[49m\u001b[43mrestore_signals\u001b[49m\u001b[43m,\u001b[49m\n\u001b[1;32m   1033\u001b[0m \u001b[43m                        \u001b[49m\u001b[43mgid\u001b[49m\u001b[43m,\u001b[49m\u001b[43m \u001b[49m\u001b[43mgids\u001b[49m\u001b[43m,\u001b[49m\u001b[43m \u001b[49m\u001b[43muid\u001b[49m\u001b[43m,\u001b[49m\u001b[43m \u001b[49m\u001b[43mumask\u001b[49m\u001b[43m,\u001b[49m\n\u001b[1;32m   1034\u001b[0m \u001b[43m                        \u001b[49m\u001b[43mstart_new_session\u001b[49m\u001b[43m,\u001b[49m\u001b[43m \u001b[49m\u001b[43mprocess_group\u001b[49m\u001b[43m)\u001b[49m\n\u001b[1;32m   1035\u001b[0m \u001b[38;5;28;01mexcept\u001b[39;00m:\n\u001b[1;32m   1036\u001b[0m     \u001b[38;5;66;03m# Cleanup if the child failed starting.\u001b[39;00m\n",
      "File \u001b[0;32m~/miniconda3/envs/classify/lib/python3.12/subprocess.py:1955\u001b[0m, in \u001b[0;36mPopen._execute_child\u001b[0;34m(self, args, executable, preexec_fn, close_fds, pass_fds, cwd, env, startupinfo, creationflags, shell, p2cread, p2cwrite, c2pread, c2pwrite, errread, errwrite, restore_signals, gid, gids, uid, umask, start_new_session, process_group)\u001b[0m\n\u001b[1;32m   1954\u001b[0m \u001b[38;5;28;01mif\u001b[39;00m err_filename \u001b[38;5;129;01mis\u001b[39;00m \u001b[38;5;129;01mnot\u001b[39;00m \u001b[38;5;28;01mNone\u001b[39;00m:\n\u001b[0;32m-> 1955\u001b[0m     \u001b[38;5;28;01mraise\u001b[39;00m child_exception_type(errno_num, err_msg, err_filename)\n\u001b[1;32m   1956\u001b[0m \u001b[38;5;28;01melse\u001b[39;00m:\n",
      "\u001b[0;31mFileNotFoundError\u001b[0m: [Errno 2] No such file or directory: 'dot'",
      "\nThe above exception was the direct cause of the following exception:\n",
      "\u001b[0;31mExecutableNotFound\u001b[0m                        Traceback (most recent call last)",
      "File \u001b[0;32m~/miniconda3/envs/classify/lib/python3.12/site-packages/IPython/core/formatters.py:347\u001b[0m, in \u001b[0;36mBaseFormatter.__call__\u001b[0;34m(self, obj)\u001b[0m\n\u001b[1;32m    345\u001b[0m     method \u001b[38;5;241m=\u001b[39m get_real_method(obj, \u001b[38;5;28mself\u001b[39m\u001b[38;5;241m.\u001b[39mprint_method)\n\u001b[1;32m    346\u001b[0m     \u001b[38;5;28;01mif\u001b[39;00m method \u001b[38;5;129;01mis\u001b[39;00m \u001b[38;5;129;01mnot\u001b[39;00m \u001b[38;5;28;01mNone\u001b[39;00m:\n\u001b[0;32m--> 347\u001b[0m         \u001b[38;5;28;01mreturn\u001b[39;00m \u001b[43mmethod\u001b[49m\u001b[43m(\u001b[49m\u001b[43m)\u001b[49m\n\u001b[1;32m    348\u001b[0m     \u001b[38;5;28;01mreturn\u001b[39;00m \u001b[38;5;28;01mNone\u001b[39;00m\n\u001b[1;32m    349\u001b[0m \u001b[38;5;28;01melse\u001b[39;00m:\n",
      "File \u001b[0;32m~/miniconda3/envs/classify/lib/python3.12/site-packages/dtreeviz/utils.py:242\u001b[0m, in \u001b[0;36mDTreeVizRender._repr_svg_\u001b[0;34m(self)\u001b[0m\n\u001b[1;32m    241\u001b[0m \u001b[38;5;28;01mdef\u001b[39;00m \u001b[38;5;21m_repr_svg_\u001b[39m(\u001b[38;5;28mself\u001b[39m):\n\u001b[0;32m--> 242\u001b[0m     \u001b[38;5;28;01mreturn\u001b[39;00m \u001b[38;5;28;43mself\u001b[39;49m\u001b[38;5;241;43m.\u001b[39;49m\u001b[43msvg\u001b[49m\u001b[43m(\u001b[49m\u001b[43m)\u001b[49m\n",
      "File \u001b[0;32m~/miniconda3/envs/classify/lib/python3.12/site-packages/dtreeviz/utils.py:246\u001b[0m, in \u001b[0;36mDTreeVizRender.svg\u001b[0;34m(self)\u001b[0m\n\u001b[1;32m    244\u001b[0m \u001b[38;5;28;01mdef\u001b[39;00m \u001b[38;5;21msvg\u001b[39m(\u001b[38;5;28mself\u001b[39m):\n\u001b[1;32m    245\u001b[0m \u001b[38;5;250m    \u001b[39m\u001b[38;5;124;03m\"\"\"Render tree as svg and return svg text.\"\"\"\u001b[39;00m\n\u001b[0;32m--> 246\u001b[0m     svgfilename \u001b[38;5;241m=\u001b[39m \u001b[38;5;28;43mself\u001b[39;49m\u001b[38;5;241;43m.\u001b[39;49m\u001b[43msave_svg\u001b[49m\u001b[43m(\u001b[49m\u001b[43m)\u001b[49m\n\u001b[1;32m    247\u001b[0m     \u001b[38;5;28;01mwith\u001b[39;00m \u001b[38;5;28mopen\u001b[39m(svgfilename, encoding\u001b[38;5;241m=\u001b[39m\u001b[38;5;124m'\u001b[39m\u001b[38;5;124mUTF-8\u001b[39m\u001b[38;5;124m'\u001b[39m) \u001b[38;5;28;01mas\u001b[39;00m f:\n\u001b[1;32m    248\u001b[0m         svg \u001b[38;5;241m=\u001b[39m f\u001b[38;5;241m.\u001b[39mread()\n",
      "File \u001b[0;32m~/miniconda3/envs/classify/lib/python3.12/site-packages/dtreeviz/utils.py:266\u001b[0m, in \u001b[0;36mDTreeVizRender.save_svg\u001b[0;34m(self)\u001b[0m\n\u001b[1;32m    264\u001b[0m tmp \u001b[38;5;241m=\u001b[39m tempfile\u001b[38;5;241m.\u001b[39mgettempdir()\n\u001b[1;32m    265\u001b[0m svgfilename \u001b[38;5;241m=\u001b[39m os\u001b[38;5;241m.\u001b[39mpath\u001b[38;5;241m.\u001b[39mjoin(tmp, \u001b[38;5;124mf\u001b[39m\u001b[38;5;124m\"\u001b[39m\u001b[38;5;124mDTreeViz_\u001b[39m\u001b[38;5;132;01m{\u001b[39;00mos\u001b[38;5;241m.\u001b[39mgetpid()\u001b[38;5;132;01m}\u001b[39;00m\u001b[38;5;124m.svg\u001b[39m\u001b[38;5;124m\"\u001b[39m)\n\u001b[0;32m--> 266\u001b[0m \u001b[38;5;28;43mself\u001b[39;49m\u001b[38;5;241;43m.\u001b[39;49m\u001b[43msave\u001b[49m\u001b[43m(\u001b[49m\u001b[43msvgfilename\u001b[49m\u001b[43m)\u001b[49m\n\u001b[1;32m    267\u001b[0m \u001b[38;5;28;01mreturn\u001b[39;00m svgfilename\n",
      "File \u001b[0;32m~/miniconda3/envs/classify/lib/python3.12/site-packages/dtreeviz/utils.py:294\u001b[0m, in \u001b[0;36mDTreeVizRender.save\u001b[0;34m(self, filename)\u001b[0m\n\u001b[1;32m    292\u001b[0m     graphviz\u001b[38;5;241m.\u001b[39mbackend\u001b[38;5;241m.\u001b[39mrun(cmd, capture_output\u001b[38;5;241m=\u001b[39m\u001b[38;5;28;01mTrue\u001b[39;00m, check\u001b[38;5;241m=\u001b[39m\u001b[38;5;28;01mTrue\u001b[39;00m, quiet\u001b[38;5;241m=\u001b[39m\u001b[38;5;28;01mFalse\u001b[39;00m)\n\u001b[1;32m    293\u001b[0m \u001b[38;5;28;01melse\u001b[39;00m:\n\u001b[0;32m--> 294\u001b[0m     \u001b[43mgraphviz\u001b[49m\u001b[38;5;241;43m.\u001b[39;49m\u001b[43mbackend\u001b[49m\u001b[38;5;241;43m.\u001b[39;49m\u001b[43mexecute\u001b[49m\u001b[38;5;241;43m.\u001b[39;49m\u001b[43mrun_check\u001b[49m\u001b[43m(\u001b[49m\u001b[43mcmd\u001b[49m\u001b[43m,\u001b[49m\u001b[43m \u001b[49m\u001b[43mcapture_output\u001b[49m\u001b[38;5;241;43m=\u001b[39;49m\u001b[38;5;28;43;01mTrue\u001b[39;49;00m\u001b[43m,\u001b[49m\u001b[43m \u001b[49m\u001b[43mcheck\u001b[49m\u001b[38;5;241;43m=\u001b[39;49m\u001b[38;5;28;43;01mTrue\u001b[39;49;00m\u001b[43m,\u001b[49m\u001b[43m \u001b[49m\u001b[43mquiet\u001b[49m\u001b[38;5;241;43m=\u001b[39;49m\u001b[38;5;28;43;01mFalse\u001b[39;49;00m\u001b[43m)\u001b[49m\n\u001b[1;32m    296\u001b[0m \u001b[38;5;28;01mif\u001b[39;00m filename\u001b[38;5;241m.\u001b[39mendswith(\u001b[38;5;124m\"\u001b[39m\u001b[38;5;124m.svg\u001b[39m\u001b[38;5;124m\"\u001b[39m):\n\u001b[1;32m    297\u001b[0m     \u001b[38;5;66;03m# now merge in referenced SVG images to make all-in-one file\u001b[39;00m\n\u001b[1;32m    298\u001b[0m     \u001b[38;5;28;01mwith\u001b[39;00m \u001b[38;5;28mopen\u001b[39m(filename, encoding\u001b[38;5;241m=\u001b[39m\u001b[38;5;124m'\u001b[39m\u001b[38;5;124mUTF-8\u001b[39m\u001b[38;5;124m'\u001b[39m) \u001b[38;5;28;01mas\u001b[39;00m f:\n",
      "File \u001b[0;32m~/miniconda3/envs/classify/lib/python3.12/site-packages/graphviz/backend/execute.py:81\u001b[0m, in \u001b[0;36mrun_check\u001b[0;34m(cmd, input_lines, encoding, quiet, **kwargs)\u001b[0m\n\u001b[1;32m     79\u001b[0m \u001b[38;5;28;01mexcept\u001b[39;00m \u001b[38;5;167;01mOSError\u001b[39;00m \u001b[38;5;28;01mas\u001b[39;00m e:\n\u001b[1;32m     80\u001b[0m     \u001b[38;5;28;01mif\u001b[39;00m e\u001b[38;5;241m.\u001b[39merrno \u001b[38;5;241m==\u001b[39m errno\u001b[38;5;241m.\u001b[39mENOENT:\n\u001b[0;32m---> 81\u001b[0m         \u001b[38;5;28;01mraise\u001b[39;00m ExecutableNotFound(cmd) \u001b[38;5;28;01mfrom\u001b[39;00m \u001b[38;5;21;01me\u001b[39;00m\n\u001b[1;32m     82\u001b[0m     \u001b[38;5;28;01mraise\u001b[39;00m\n\u001b[1;32m     84\u001b[0m \u001b[38;5;28;01mif\u001b[39;00m \u001b[38;5;129;01mnot\u001b[39;00m quiet \u001b[38;5;129;01mand\u001b[39;00m proc\u001b[38;5;241m.\u001b[39mstderr:\n",
      "\u001b[0;31mExecutableNotFound\u001b[0m: failed to execute 'dot', make sure the Graphviz executables are on your systems' PATH"
     ]
    },
    {
     "data": {
      "text/plain": [
       "<dtreeviz.utils.DTreeVizRender at 0x1675cb8f0>"
      ]
     },
     "execution_count": 20,
     "metadata": {},
     "output_type": "execute_result"
    }
   ],
   "source": [
    "viz.view(depth_range_to_display=(0, 2))"
   ]
  }
 ],
 "metadata": {
  "kernelspec": {
   "display_name": "Python 3 (ipykernel)",
   "language": "python",
   "name": "python3"
  },
  "language_info": {
   "codemirror_mode": {
    "name": "ipython",
    "version": 3
   },
   "file_extension": ".py",
   "mimetype": "text/x-python",
   "name": "python",
   "nbconvert_exporter": "python",
   "pygments_lexer": "ipython3",
   "version": "3.12.4"
  }
 },
 "nbformat": 4,
 "nbformat_minor": 5
}
